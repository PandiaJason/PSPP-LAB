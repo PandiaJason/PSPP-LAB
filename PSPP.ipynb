{
 "cells": [
  {
   "cell_type": "markdown",
   "id": "55e5328f-c824-4c68-b431-cbaee3457deb",
   "metadata": {},
   "source": [
    "<img src=\"../misc/college-logo-1024x245.png\" alt=\"Nehru Institute of Technology (Autonomous) - Approved by AICTE, New Delhi & Affiliated to Anna University, Chennai - Recognized by UGC with Section 2(f), Accredited by NAAC with A+, NBA Accredited\">\n"
   ]
  },
  {
   "cell_type": "markdown",
   "id": "de2b91a3-5283-4955-ba5c-e2ad74389889",
   "metadata": {},
   "source": [
    "<div class=\"alert alert-block alert-info\">\n",
    "    \n",
    "# Interactive Playground for Problem Solving and Python Programming\n",
    "\n",
    "**By MR. P Jason**<br> *Assistant Professor, Department of Information Technology*\n",
    "    \n",
    "</div>"
   ]
  },
  {
   "cell_type": "markdown",
   "id": "aab7bfe1-581b-47a2-ac13-403f1e23d66d",
   "metadata": {},
   "source": [
    "# 1. VOTER’S AGE VALIDATION\n",
    "\n",
    "## AIM:\n",
    "The aim of this task is to create a Python program that validates whether a person is eligible to vote based on their age. The typical voting age is 18 years\n",
    "and older. The program will take the person's birth year as input, calculate their age, and determine if they are eligible to vote.\n",
    "## ALGORITHM:\n",
    "- Step-1. Input the Birth Year: Prompt the user to enter their birth year.\n",
    "- Step-2. Calculate the Current Year: Get the current year from the system.\n",
    "- Step-3. Calculate the Age: Subtract the birth year from the current year to determine the person's age.\n",
    "- Step-4. Check Eligibility:\n",
    "- Step-5.If the age is 18 or older, the person is eligible to vote.\n",
    "- Step-6.If the age is less than 18, the person is not eligible to vote.\n",
    "- Step-7. Display the Result: Print a message indicating whether the person is eligible to vote or not.\n",
    "\n",
    "## PROGRAM:"
   ]
  },
  {
   "cell_type": "code",
   "execution_count": 31,
   "id": "8f9d9ded-2301-477b-a16e-2c8f6eade19f",
   "metadata": {},
   "outputs": [
    {
     "name": "stdout",
     "output_type": "stream",
     "text": [
      "Enter your birth year:  2006\n"
     ]
    },
    {
     "name": "stdout",
     "output_type": "stream",
     "text": [
      "You are 18 years old. You are eligible to vote.\n"
     ]
    }
   ],
   "source": [
    "from datetime import datetime\n",
    "\n",
    "def is_eligible_to_vote(birth_year):\n",
    "    current_year = datetime.now().year\n",
    "    age = current_year - birth_year\n",
    "    \n",
    "    if age >= 18:\n",
    "        return True, age\n",
    "    else:\n",
    "        return False, age\n",
    "\n",
    "def main():\n",
    "    try:\n",
    "        birth_year = int(input(\"Enter your birth year: \"))\n",
    "        eligible, age = is_eligible_to_vote(birth_year)\n",
    "        \n",
    "        if eligible:\n",
    "            print(f\"You are {age} years old. You are eligible to vote.\")\n",
    "        else:\n",
    "            print(f\"You are {age} years old. You are not eligible to vote.\")\n",
    "    except ValueError:\n",
    "        print(\"Invalid input. Please enter a valid year.\")\n",
    "\n",
    "if __name__ == \"__main__\":\n",
    "    main()\n"
   ]
  },
  {
   "cell_type": "markdown",
   "id": "bc13b461-3f86-40ad-8ea8-d77574ff4665",
   "metadata": {},
   "source": [
    "## 2. SIMPLE SORTING\n",
    "\n",
    "## AIM:\n",
    "The aim of this program is to sort a list of numbers using the bubble sort algorithm.\n",
    "## ALGORITHM:\n",
    "- Step-1. Given a list of numbers.\n",
    "- Step-2. Repeat the following steps for each element in the list:\n",
    "- Step-3. Iterate through the list from the beginning to the end.\n",
    "- Step-4. Compare each pair of adjacent elements.\n",
    "- Step-5. If the current element is greater than the next element, swap them.\n",
    "- Step-6. Repeat step 2 until no swaps are needed (the list is sorted).\n",
    "\n",
    "## PROGRAM:"
   ]
  },
  {
   "cell_type": "code",
   "execution_count": 32,
   "id": "85019dbb-f0b3-47f0-8eda-500de703672e",
   "metadata": {},
   "outputs": [
    {
     "name": "stdout",
     "output_type": "stream",
     "text": [
      "Enter the elements in the list, separated by spaces:  9 8 7 6 5 4 3 2 1\n"
     ]
    },
    {
     "name": "stdout",
     "output_type": "stream",
     "text": [
      "Sorted array is: [1, 2, 3, 4, 5, 6, 7, 8, 9]\n"
     ]
    }
   ],
   "source": [
    "def bubble_sort(my_list):\n",
    "    n = len(my_list)\n",
    "    for i in range(n):\n",
    "        for j in range(0, n - i - 1):\n",
    "            if my_list[j] > my_list[j + 1]:\n",
    "                my_list[j], my_list[j + 1] = my_list[j + 1], my_list[j]\n",
    "\n",
    "# Example usage:\n",
    "# Prompt the user to enter elements separated by spaces\n",
    "user_input = input(\"Enter the elements in the list, separated by spaces: \")\n",
    "\n",
    "# Split the input string into a list of strings, then convert each to an integer\n",
    "my_list = list(map(int, user_input.split()))\n",
    "\n",
    "# Sort the list using bubble sort\n",
    "bubble_sort(my_list)\n",
    "\n",
    "# Print the sorted list\n",
    "print(\"Sorted array is:\", my_list)\n"
   ]
  },
  {
   "cell_type": "markdown",
   "id": "7faa610e-5e2d-44eb-a322-8156bbbd46da",
   "metadata": {},
   "source": [
    "## 3. BIANRY SEARCH\n",
    "\n",
    "## AIM:\n",
    "The aim of this program is to do binary search in a list of numbres.\n",
    "## ALGORITHM:\n",
    "- Step-1. Given a sorted array and a target value to search.\n",
    "- Step-2. Set two pointers, low and high, initially pointing to the first and last elements of the array, respectively.\n",
    "- Step-3. While low is less than or equal to high, do:\n",
    "- Step-4. Calculate the middle index as (low + high) // 2.\n",
    "- Step-5. If the middle element is equal to the target, return its index.\n",
    "- Step-6. If the middle element is greater than the target, update high to mid -1.\n",
    "- Step-7. If the middle element is less than the target, update low to mid + 1.\n",
    "- Step-8. If the target is not found in the array, return -1.\n",
    "\n",
    "## PROGRAM:"
   ]
  },
  {
   "cell_type": "code",
   "execution_count": 33,
   "id": "5353c612-4f33-4098-bbc2-4a30949cf99e",
   "metadata": {},
   "outputs": [
    {
     "name": "stdout",
     "output_type": "stream",
     "text": [
      "Enter the elements in the list, separated by spaces:  9 8 7 6 5 4 3 2 1 \n"
     ]
    },
    {
     "name": "stdout",
     "output_type": "stream",
     "text": [
      "The Sorted List is:  [1, 2, 3, 4, 5, 6, 7, 8, 9]\n"
     ]
    },
    {
     "name": "stdout",
     "output_type": "stream",
     "text": [
      "Enter the target element:  4\n"
     ]
    },
    {
     "name": "stdout",
     "output_type": "stream",
     "text": [
      "Element 4 is present at index 3\n"
     ]
    }
   ],
   "source": [
    "def binary_search(my_list, target):\n",
    "    low = 0\n",
    "    high = len(my_list) - 1\n",
    "    \n",
    "    while low <= high:\n",
    "        mid = (low + high) // 2\n",
    "        if my_list[mid] == target:\n",
    "            return mid\n",
    "        elif my_list[mid] < target:\n",
    "            low = mid + 1\n",
    "        else:\n",
    "            high = mid - 1\n",
    "    \n",
    "    return -1\n",
    "\n",
    "# Example usage:\n",
    "# Prompt the user to enter elements separated by spaces\n",
    "user_input = input(\"Enter the elements in the list, separated by spaces: \")\n",
    "\n",
    "# Split the input string into a list of strings, then convert each to an integer\n",
    "my_list = list(map(int, user_input.split()))\n",
    "\n",
    "# Sort the list before performing binary search\n",
    "my_list.sort()\n",
    "\n",
    "print(\"The Sorted List is: \", my_list)\n",
    "\n",
    "# Prompt the user to enter the target element\n",
    "target = int(input(\"Enter the target element: \"))\n",
    "\n",
    "# Perform binary search\n",
    "result = binary_search(my_list, target)\n",
    "\n",
    "if result != -1:\n",
    "    print(\"Element\", target, \"is present at index\", result)\n",
    "else:\n",
    "    print(\"Element\", target, \"is not present in the list.\")\n"
   ]
  },
  {
   "cell_type": "markdown",
   "id": "5aeae573-8eff-4d86-bdb0-d7de8b9d8ce0",
   "metadata": {},
   "source": [
    "## 4. LINEAR SEARCH\n",
    "\n",
    "## AIM:\n",
    "The aim of this program is to search for a target value in a list using the linear search algorithm.\n",
    "## ALGORITHM:\n",
    "- Step-1. Given a list and a target value to search.\n",
    "- Step-2. Iterate through each element in the list:\n",
    "- Step-3. If the current element is equal to the target, return its index.\n",
    "- Step-4. If the target is not found in the list, return -1.\n",
    "\n",
    "## PROGRAM:"
   ]
  },
  {
   "cell_type": "code",
   "execution_count": 23,
   "id": "6e3064f6-9456-4916-a9f3-4b6d280568ae",
   "metadata": {},
   "outputs": [
    {
     "name": "stdout",
     "output_type": "stream",
     "text": [
      "Enter the elements in the list, separated by spaces:  300 7 44 22 1 22 \n"
     ]
    },
    {
     "name": "stdout",
     "output_type": "stream",
     "text": [
      "The Sorted List is [1, 7, 22, 22, 44, 300]\n"
     ]
    },
    {
     "name": "stdout",
     "output_type": "stream",
     "text": [
      "Enter the target element:  22\n"
     ]
    },
    {
     "name": "stdout",
     "output_type": "stream",
     "text": [
      "Element 22 is present at index 2\n"
     ]
    }
   ],
   "source": [
    "def linear_search(my_list, target):\n",
    "    for index in range(len(my_list)):\n",
    "        if my_list[index] == target:\n",
    "            return index\n",
    "    return -1\n",
    "\n",
    "# Example usage:\n",
    "# Prompt the user to enter elements separated by spaces\n",
    "user_input = input(\"Enter the elements in the list, separated by spaces: \")\n",
    "\n",
    "# Split the input string into a list of strings, then convert each to an integer\n",
    "my_list = list(map(int, user_input.split()))\n",
    "\n",
    "# Sort the list before performing binary search\n",
    "my_list.sort()\n",
    "\n",
    "print(\"The Sorted List is: \", my_list)\n",
    "\n",
    "# Prompt the user to enter the target element\n",
    "target = int(input(\"Enter the target element: \"))\n",
    "\n",
    "result = linear_search(my_list, target)\n",
    "\n",
    "if result != -1:\n",
    "    print(\"Element\", target, \"is present at index\", result)\n",
    "else:\n",
    "    print(\"Element\", target, \"is not present in the list.\")"
   ]
  },
  {
   "cell_type": "markdown",
   "id": "4985da6f-a237-426d-b312-ad2674666f2d",
   "metadata": {},
   "source": [
    "# 5. SWAPPING TWO NUMBERS\n",
    "## AIM:\n",
    "The aim of this program is to exchange the values of two variables.\n",
    "## ALGORITHM:\n",
    "- Step-1. Start\n",
    "- Step-2. Initialize two variables, a and b, with some values.\n",
    "- Step-3. Print the values of a and b before swapping.\n",
    "- Step-4. Exchange the values of a and b using a temporary variable.\n",
    "- Step-5. Print the values of a and b after swapping.\n",
    "- Step-6. Stop"
   ]
  },
  {
   "cell_type": "code",
   "execution_count": 34,
   "id": "bae42c1e-1b52-4361-bf3d-b789a2a34882",
   "metadata": {},
   "outputs": [
    {
     "name": "stdout",
     "output_type": "stream",
     "text": [
      "Enter the value of a 12\n",
      "Enter the value of b 6\n"
     ]
    },
    {
     "name": "stdout",
     "output_type": "stream",
     "text": [
      "Before swapping:\n",
      "a = 12\n",
      "b = 6\n",
      "\n",
      "After swapping:\n",
      "a = 6\n",
      "b = 12\n"
     ]
    }
   ],
   "source": [
    "# Exchange the values of two variables\n",
    "a = int(input(\"Enter the value of a\"))\n",
    "b = int(input(\"Enter the value of b\"))\n",
    "\n",
    "print(\"Before swapping:\")\n",
    "print(\"a =\", a)\n",
    "print(\"b =\", b)\n",
    "\n",
    "# Using a temporary variable\n",
    "temp = a\n",
    "a = b\n",
    "b = temp\n",
    "\n",
    "print(\"\\nAfter swapping:\")\n",
    "print(\"a =\", a)\n",
    "print(\"b =\", b)\n"
   ]
  },
  {
   "cell_type": "markdown",
   "id": "615d0c56-9366-44bd-90cf-5bfefb83a7a5",
   "metadata": {},
   "source": [
    "# 6. TOWER OF HANOI\n",
    "\n",
    "## AIM:\n",
    "To solve the Towers of Hanoi problem for a given number of disks, moving them from one peg to another, obeying the rules of the game.\n",
    "\n",
    "## ALGORITHM:\n",
    "- Step-1. Define three pegs: source (where the disks start), auxiliary (a spare peg), and destination (where the disks should end up).\n",
    "- Step-2. Recursively move the top n-1 disks from the source peg to the auxiliary peg, using the destination peg as a temporary location.\n",
    "- Step-3. Move the largest disk from the source peg to the destination peg.\n",
    "- Step-4. Recursively move the n-1 disks from the auxiliary peg to the destination peg, using the source peg as a temporary location."
   ]
  },
  {
   "cell_type": "code",
   "execution_count": 35,
   "id": "d2ae2c84-802d-40bd-beb0-9edbcd13f6dc",
   "metadata": {},
   "outputs": [
    {
     "name": "stdout",
     "output_type": "stream",
     "text": [
      "Enter Number of disks 3\n"
     ]
    },
    {
     "name": "stdout",
     "output_type": "stream",
     "text": [
      "Steps to solve the Towers of Hanoi with 3 disks:\n",
      "Move disk 1 from A to C\n",
      "Move disk 2 from A to B\n",
      "Move disk 1 from C to B\n",
      "Move disk 3 from A to C\n",
      "Move disk 1 from B to A\n",
      "Move disk 2 from B to C\n",
      "Move disk 1 from A to C\n"
     ]
    }
   ],
   "source": [
    "def towers_of_hanoi(n, source, auxiliary, destination):\n",
    "    if n == 1:\n",
    "        print(\"Move disk 1 from\", source, \"to\", destination)\n",
    "        return\n",
    "    towers_of_hanoi(n-1, source, destination, auxiliary)\n",
    "    print(\"Move disk\", n, \"from\", source, \"to\", destination)\n",
    "    towers_of_hanoi(n-1, auxiliary, source, destination)\n",
    "\n",
    "# Example usage:\n",
    "n = int(input(\"Enter Number of disks\"))\n",
    "source_peg = \"A\"\n",
    "auxiliary_peg = \"B\"\n",
    "destination_peg = \"C\"\n",
    "print(\"Steps to solve the Towers of Hanoi with\", n, \"disks:\")\n",
    "towers_of_hanoi(n, source_peg, auxiliary_peg, destination_peg)\n"
   ]
  },
  {
   "cell_type": "markdown",
   "id": "0e561304-16f9-44a6-b8fd-550a9839aa83",
   "metadata": {},
   "source": [
    "# 7. SIMPLE SQUARE ROOT, EXPONENTIATION\n",
    "\n",
    "## AIM:\n",
    "To calculate the square root and exponentiation of a number using Python.\n",
    "## ALGORITHM:\n",
    "- Step-1. Square Root: Use the math.sqrt() function from the math module\n",
    "- Step-2. to calculate the square root of a number.\n",
    "- Step-3. Exponentiation: Use the ** operator to perform exponentiation in Python.\n",
    "- Step-4. For example, a ** b calculates a^b."
   ]
  },
  {
   "cell_type": "code",
   "execution_count": 36,
   "id": "46fb909c-3aa5-4a30-b4f8-a45f0067df68",
   "metadata": {},
   "outputs": [
    {
     "name": "stdout",
     "output_type": "stream",
     "text": [
      "Enter Number:  2\n"
     ]
    },
    {
     "name": "stdout",
     "output_type": "stream",
     "text": [
      "Square root of 2 : 1.4142135623730951\n"
     ]
    },
    {
     "name": "stdout",
     "output_type": "stream",
     "text": [
      "Enter base number:  2\n",
      "Enter exponent number:  2\n"
     ]
    },
    {
     "name": "stdout",
     "output_type": "stream",
     "text": [
      "2 raised to the power of 2 : 4\n"
     ]
    }
   ],
   "source": [
    "import math\n",
    "\n",
    "# Function to calculate square root\n",
    "def calculate_square_root(number):\n",
    "    square_root = math.sqrt(number)\n",
    "    return square_root\n",
    "\n",
    "# Function to perform exponentiation\n",
    "def calculate_exponentiation(base, exponent):\n",
    "    result = base ** exponent\n",
    "    return result\n",
    "\n",
    "# Example usage for square root\n",
    "number = int(input(\"Enter Number: \"))\n",
    "square_root = calculate_square_root(number)\n",
    "print(\"Square root of\", number, \":\", square_root)\n",
    "\n",
    "# Example usage for exponentiation\n",
    "base = int(input(\"Enter base number: \"))\n",
    "exponent = int(input(\"Enter exponent number: \"))\n",
    "result = calculate_exponentiation(base, exponent)\n",
    "print(base, \"raised to the power of\", exponent, \":\", result)\n"
   ]
  },
  {
   "cell_type": "markdown",
   "id": "bc096250-ab28-4824-8c30-3c5471bab8ce",
   "metadata": {},
   "source": [
    "# 8. PYRAMIND PATTERN\n",
    "## AIM:\n",
    "The aim of this program is to print a pyramid pattern using iterative loops and\n",
    "conditionals.\n",
    "## ALGORITHM:\n",
    "- Step-1. Start\n",
    "- Step-2. Prompt the user to input the number of rows for the pyramid pattern.\n",
    "- Step-3. Generate and print the pyramid pattern using iterative loops and conditionals.\n",
    "- Step-4. Stop"
   ]
  },
  {
   "cell_type": "code",
   "execution_count": 37,
   "id": "aed37efd-9a27-4389-a286-357a217555ac",
   "metadata": {},
   "outputs": [
    {
     "name": "stdout",
     "output_type": "stream",
     "text": [
      "Enter the number of rows for the pyramid pattern:  6\n"
     ]
    },
    {
     "name": "stdout",
     "output_type": "stream",
     "text": [
      "     * \n",
      "    * * \n",
      "   * * * \n",
      "  * * * * \n",
      " * * * * * \n",
      "* * * * * * \n"
     ]
    }
   ],
   "source": [
    "# Print a pyramid pattern of asterisks\n",
    "rows = int(input(\"Enter the number of rows for the pyramid pattern: \"))\n",
    "\n",
    "for i in range(1, rows + 1):\n",
    "    print(\" \" * (rows - i) + \"* \" * i)\n"
   ]
  },
  {
   "cell_type": "markdown",
   "id": "d469ace4-9923-4305-9376-f9da93c1d7d1",
   "metadata": {},
   "source": [
    "<div class=\"alert alert-block alert-info\">\n",
    "    \n",
    "# Conclusion\n",
    "### This interactive playground enhances logical problem-solving abilities with Python Programming.\n",
    "\n",
    "**By Jason Pandian**<br> *Assistant Professor, Department of Information Technology*\n",
    "    \n",
    "</div>"
   ]
  }
 ],
 "metadata": {
  "kernelspec": {
   "display_name": "Python 3 (ipykernel)",
   "language": "python",
   "name": "python3"
  },
  "language_info": {
   "codemirror_mode": {
    "name": "ipython",
    "version": 3
   },
   "file_extension": ".py",
   "mimetype": "text/x-python",
   "name": "python",
   "nbconvert_exporter": "python",
   "pygments_lexer": "ipython3",
   "version": "3.11.2"
  }
 },
 "nbformat": 4,
 "nbformat_minor": 5
}
